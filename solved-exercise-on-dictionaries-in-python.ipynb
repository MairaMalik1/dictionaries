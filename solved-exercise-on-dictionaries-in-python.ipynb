{
 "cells": [
  {
   "cell_type": "code",
   "execution_count": null,
   "id": "f9e83324-b35c-443a-8929-674f9c7508ab",
   "metadata": {},
   "outputs": [],
   "source": [
    "#mairamalik\n",
    "#fa24-bbd-043"
   ]
  },
  {
   "cell_type": "code",
   "execution_count": 3,
   "id": "b285ff9d-053b-4822-a861-1007acd58616",
   "metadata": {},
   "outputs": [
    {
     "name": "stdout",
     "output_type": "stream",
     "text": [
      "{'name': 'Maira', 'age': '19', 'city': 'Lahore', 'hobbies': 'Playing games'}\n"
     ]
    }
   ],
   "source": [
    "#Create a dictionary to store information about a person (name, age, city, hobbies)\n",
    "\n",
    "person_info = {'name':'Maira','age':'19','city':'Lahore','hobbies':'Playing games'}\n",
    "print(person_info)"
   ]
  },
  {
   "cell_type": "code",
   "execution_count": 5,
   "id": "63145040-4070-4546-ad0d-c47e8b72b8fb",
   "metadata": {},
   "outputs": [
    {
     "name": "stdout",
     "output_type": "stream",
     "text": [
      "{'hi!': 1, 'its': 1, 'maira,': 1, 'how': 1, 'are': 1, 'you?': 1}\n"
     ]
    }
   ],
   "source": [
    "#Write a program to count the frequency of words in a given text.\n",
    "\n",
    "text = \"Hi! its Maira, how are you?\"\n",
    "words = text.split()\n",
    "word_count = {}\n",
    "\n",
    "for word in words:\n",
    "    word = word.lower()\n",
    "    if word in word_count:\n",
    "        word_count[word] += 1\n",
    "    else:\n",
    "        word_count[word] = 1\n",
    "\n",
    "print(word_count)"
   ]
  },
  {
   "cell_type": "code",
   "execution_count": 7,
   "id": "cfcaeb0d-4648-4120-8020-d9346e32f0a1",
   "metadata": {},
   "outputs": [
    {
     "name": "stdout",
     "output_type": "stream",
     "text": [
      "phone : 400\n",
      "computer : 332\n",
      "laptop : 424\n"
     ]
    }
   ],
   "source": [
    "#Implement a simple inventory system using dictionaries.\n",
    "\n",
    "inventory = {\n",
    "    'phone' : 400,\n",
    "    'computer' : 380,\n",
    "    'laptop' : 47\n",
    "}\n",
    "\n",
    "inventory['laptop'] += 377\n",
    "inventory['computer'] -= 48\n",
    "\n",
    "for items, quantity in inventory.items():\n",
    "    print(f\"{items} : {quantity}\")\n"
   ]
  },
  {
   "cell_type": "code",
   "execution_count": 9,
   "id": "9c1a62e7-749e-43de-8fa6-508948ed5c14",
   "metadata": {},
   "outputs": [
    {
     "name": "stdout",
     "output_type": "stream",
     "text": [
      "The most popular category is 'Fruits' with 4 orders.\n"
     ]
    }
   ],
   "source": [
    "#Analyze a dataset of customer orders to find the most popular product category.\n",
    "orders = [\"Fruits\", \"Fruits\", \"Vegetables\", \"Fruits\", \"Vegetables\", \"Dairy\", \"Dairy\", \"Fruits\"]\n",
    "\n",
    "category_counts = {}\n",
    "for category in orders:\n",
    "    if category in category_counts:\n",
    "        category_counts[category] += 1\n",
    "    else:\n",
    "        category_counts[category] = 1\n",
    "\n",
    "# Find the most popular category\n",
    "most_popular = max(category_counts, key=category_counts.get)\n",
    "print(f\"The most popular category is '{most_popular}' with {category_counts[most_popular]} orders.\")"
   ]
  },
  {
   "cell_type": "code",
   "execution_count": 11,
   "id": "11ad4d2a-091a-4412-b4e9-e0f539ec0a2e",
   "metadata": {},
   "outputs": [
    {
     "name": "stdout",
     "output_type": "stream",
     "text": [
      "Average grade is: 22.8\n"
     ]
    }
   ],
   "source": [
    "#Create a dictionary to store student grades and calculate the average grade.\n",
    "\n",
    "grades = {\n",
    "    'alyna' : 20,\n",
    "    'asma' : 27,\n",
    "    'bilal' : 21,\n",
    "    'haider' : 24,\n",
    "    'shehreen' : 22\n",
    "}\n",
    "\n",
    "average_grade = sum(grades.values()) / len(grades)\n",
    "print(f\"Average grade is: {average_grade}\")"
   ]
  },
  {
   "cell_type": "code",
   "execution_count": 13,
   "id": "df6e27d0-0644-43c3-8068-fb0f0165bc50",
   "metadata": {},
   "outputs": [
    {
     "name": "stdout",
     "output_type": "stream",
     "text": [
      "Total Inventory Value: 160.5\n",
      "Low stock: apples\n"
     ]
    }
   ],
   "source": [
    "#Inventory Management:\n",
    "#Create a dictionary to store product information: name, quantity, price.\n",
    "#Implement functions to:\n",
    "#Add new products\n",
    "#Update product quantities\n",
    "#Calculate total inventory value\n",
    "#Generate a report of low-stock items\n",
    "inventory = {\n",
    "    \"mangos\": {\"quantity\": 20, \"price\": 5.7},\n",
    "    \"oranges\": {\"quantity\": 8, \"price\": 3.0},\n",
    "}\n",
    "\n",
    "def add_product(name, quantity, price):\n",
    "    inventory[name] = {\"quantity\": quantity, \"price\": price}\n",
    "\n",
    "def update_quantity(name, quantity):\n",
    "    if name in inventory:\n",
    "        inventory[name][\"quantity\"] += quantity\n",
    "\n",
    "def total_value():\n",
    "    total = 0\n",
    "    for product in inventory:\n",
    "        total += inventory[product][\"quantity\"] * inventory[product][\"price\"]\n",
    "    return total\n",
    "\n",
    "def low_stock():\n",
    "    for product, info in inventory.items():\n",
    "        if info[\"quantity\"] < 5:\n",
    "            print(f\"Low stock: {product}\")\n",
    "            \n",
    "add_product(\"apples\", 3, 2.5) \n",
    "update_quantity(\"oranges\", 5)    \n",
    "print(\"Total Inventory Value:\", total_value()) \n",
    "low_stock()  "
   ]
  },
  {
   "cell_type": "code",
   "execution_count": 17,
   "id": "9d15dfd0-996b-4e48-a433-28e4a1569a14",
   "metadata": {},
   "outputs": [
    {
     "name": "stdout",
     "output_type": "stream",
     "text": [
      "\n",
      "1. Average Grade for Each Student\n",
      "2. Find Highest and Lowest Grades in a Subject\n",
      "3. Sort Students by Average Grade\n",
      "4. Exit\n"
     ]
    },
    {
     "name": "stdin",
     "output_type": "stream",
     "text": [
      "Choose an option (1-4):  1\n"
     ]
    },
    {
     "name": "stdout",
     "output_type": "stream",
     "text": [
      "ali: Average Grade = 74.33\n",
      "asma: Average Grade = 78.33\n",
      "shehreen: Average Grade = 65.00\n",
      "\n",
      "1. Average Grade for Each Student\n",
      "2. Find Highest and Lowest Grades in a Subject\n",
      "3. Sort Students by Average Grade\n",
      "4. Exit\n"
     ]
    },
    {
     "name": "stdin",
     "output_type": "stream",
     "text": [
      "Choose an option (1-4):  2\n",
      "Enter subject (math, urdu, english):  math\n"
     ]
    },
    {
     "name": "stdout",
     "output_type": "stream",
     "text": [
      "Highest grade in math: asma with 78\n",
      "Lowest grade in math: shehreen with 44\n",
      "\n",
      "1. Average Grade for Each Student\n",
      "2. Find Highest and Lowest Grades in a Subject\n",
      "3. Sort Students by Average Grade\n",
      "4. Exit\n"
     ]
    },
    {
     "name": "stdin",
     "output_type": "stream",
     "text": [
      "Choose an option (1-4):  3\n"
     ]
    },
    {
     "name": "stdout",
     "output_type": "stream",
     "text": [
      "Students sorted by average grade:\n",
      "asma: Average Grade = 78.33\n",
      "ali: Average Grade = 74.33\n",
      "shehreen: Average Grade = 65.00\n",
      "\n",
      "1. Average Grade for Each Student\n",
      "2. Find Highest and Lowest Grades in a Subject\n",
      "3. Sort Students by Average Grade\n",
      "4. Exit\n"
     ]
    },
    {
     "name": "stdin",
     "output_type": "stream",
     "text": [
      "Choose an option (1-4):  4\n"
     ]
    }
   ],
   "source": [
    "#Student Gradebook:\n",
    "#Create a dictionary to store student information: name, grades for different subjects.\n",
    "#Calculate the average grade for each student.\n",
    "#Find the highest and lowest grades in a specific subject.\n",
    "#Sort students by their average grades.\n",
    "students = {\n",
    "    \"ali\": {\"math\": 75, \"urdu\": 60, \"english\": 88},\n",
    "    \"asma\": {\"math\": 78, \"urdu\": 85, \"english\": 72},\n",
    "    \"shehreen\": {\"math\": 44, \"urdu\": 70, \"english\": 81},\n",
    "}\n",
    "\n",
    "\n",
    "def average_grade(grades):\n",
    "    return sum(grades.values()) / len(grades)\n",
    "\n",
    "def subject_grades(subject):\n",
    "    highest = None\n",
    "    lowest = None\n",
    "    for name, grades in students.items():\n",
    "        grade = grades[subject]\n",
    "        if highest is None or grade > highest[1]:\n",
    "            highest = (name, grade)\n",
    "        if lowest is None or grade < lowest[1]:\n",
    "            lowest = (name, grade)\n",
    "    return highest, lowest\n",
    "\n",
    "\n",
    "def sorted_by_average():\n",
    "    sorted_students = []\n",
    "    for name, grades in students.items():\n",
    "        avg = average_grade(grades)\n",
    "        sorted_students.append((name, avg))\n",
    "    sorted_students.sort(key=lambda x: x[1], reverse=True)\n",
    "    return sorted_students\n",
    "\n",
    "while True:\n",
    "    print(\"\\n1. Average Grade for Each Student\")\n",
    "    print(\"2. Find Highest and Lowest Grades in a Subject\")\n",
    "    print(\"3. Sort Students by Average Grade\")\n",
    "    print(\"4. Exit\")\n",
    "    \n",
    "    choice = input(\"Choose an option (1-4): \")\n",
    "\n",
    "    if choice == \"1\":\n",
    "        for name, grades in students.items():\n",
    "            avg = average_grade(grades)\n",
    "            print(f\"{name}: Average Grade = {avg:.2f}\")\n",
    "    elif choice == \"2\":\n",
    "        subject = input(\"Enter subject (math, urdu, english): \")\n",
    "        if subject in next(iter(students.values())):\n",
    "            highest, lowest = subject_grades(subject)\n",
    "            print(f\"Highest grade in {subject}: {highest[0]} with {highest[1]}\")\n",
    "            print(f\"Lowest grade in {subject}: {lowest[0]} with {lowest[1]}\")\n",
    "        else:\n",
    "            print(\"Invalid subject.\")\n",
    "    elif choice == \"3\":\n",
    "        sorted_students = sorted_by_average()\n",
    "        print(\"Students sorted by average grade:\")\n",
    "        for name, avg in sorted_students:\n",
    "            print(f\"{name}: Average Grade = {avg:.2f}\")\n",
    "    elif choice == \"4\":\n",
    "        break\n",
    "    else:\n",
    "        print(\"Invalid choice, try again.\")       "
   ]
  },
  {
   "cell_type": "code",
   "execution_count": 19,
   "id": "4f8f5ed7-83eb-4d2c-a3f2-88d0cce408fd",
   "metadata": {},
   "outputs": [
    {
     "name": "stdout",
     "output_type": "stream",
     "text": [
      "Cart: {1: 1, 2: 1}\n",
      "Total: 1417.5\n"
     ]
    }
   ],
   "source": [
    "#Simple E-commerce Store:\n",
    "#Create a dictionary to store product information: name, price, quantity.\n",
    "#Implement a shopping cart feature where users can add and remove products.\n",
    "#Calculate the total cost of items in the cart.\n",
    "#Apply discounts and taxes to the total cost.\n",
    "products = {\n",
    "    1: {\"name\": \"mirror\", \"price\": 1000, \"quantity\": 10},\n",
    "    2: {\"name\": \"lipstick\", \"price\": 500, \"quantity\": 20},\n",
    "    3: {\"name\": \"eyeliner\", \"price\": 300, \"quantity\": 15}\n",
    "}\n",
    "\n",
    "cart = {}\n",
    "\n",
    "product_id = 1\n",
    "quantity = 2\n",
    "if product_id in products and products[product_id][\"quantity\"] >= quantity:\n",
    "    if product_id in cart:\n",
    "        cart[product_id] += quantity\n",
    "    else:\n",
    "        cart[product_id] = quantity\n",
    "    products[product_id][\"quantity\"] -= quantity\n",
    "\n",
    "product_id = 2\n",
    "quantity = 1\n",
    "if product_id in products and products[product_id][\"quantity\"] >= quantity:\n",
    "    if product_id in cart:\n",
    "        cart[product_id] += quantity\n",
    "    else:\n",
    "        cart[product_id] = quantity\n",
    "    products[product_id][\"quantity\"] -= quantity\n",
    "\n",
    "product_id = 1\n",
    "quantity = 1\n",
    "if product_id in cart and cart[product_id] >= quantity:\n",
    "    cart[product_id] -= quantity\n",
    "    products[product_id][\"quantity\"] += quantity\n",
    "    if cart[product_id] == 0:\n",
    "        del cart[product_id]\n",
    "\n",
    "total = sum(products[pid][\"price\"] * qty for pid, qty in cart.items())\n",
    "discount = 10\n",
    "tax = 5\n",
    "total -= total * (discount / 100)\n",
    "total += total * (tax / 100)\n",
    "\n",
    "print(\"Cart:\", cart)\n",
    "print(\"Total:\", total)"
   ]
  },
  {
   "cell_type": "code",
   "execution_count": null,
   "id": "93ae3489-0e1d-4d41-85bd-41fce2edbada",
   "metadata": {},
   "outputs": [],
   "source": []
  }
 ],
 "metadata": {
  "kernelspec": {
   "display_name": "Python 3 (ipykernel)",
   "language": "python",
   "name": "python3"
  },
  "language_info": {
   "codemirror_mode": {
    "name": "ipython",
    "version": 3
   },
   "file_extension": ".py",
   "mimetype": "text/x-python",
   "name": "python",
   "nbconvert_exporter": "python",
   "pygments_lexer": "ipython3",
   "version": "3.12.4"
  }
 },
 "nbformat": 4,
 "nbformat_minor": 5
}
